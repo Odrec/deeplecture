{
 "cells": [
  {
   "cell_type": "code",
   "execution_count": 1,
   "id": "1199571b-4181-4bbf-9efe-245b4f81145e",
   "metadata": {},
   "outputs": [],
   "source": [
    "from neighborhood_functions import load_neighborhoods\n",
    "from file_functions import insert_neighborhoods_into_files\n"
   ]
  },
  {
   "cell_type": "code",
   "execution_count": null,
   "id": "4840b5e4-41c9-4567-9d1f-08e99a3f2d4d",
   "metadata": {},
   "outputs": [
    {
     "name": "stdout",
     "output_type": "stream",
     "text": [
      "\n",
      "These are the available terms for neighborhood files:\n",
      "\n",
      "-naturaleza\n"
     ]
    },
    {
     "name": "stdin",
     "output_type": "stream",
     "text": [
      "\n",
      "The neighborhoods from which term do you want to load?  naturaleza\n"
     ]
    },
    {
     "name": "stdout",
     "output_type": "stream",
     "text": [
      "\n",
      "These are the lengths available for neighborhood files of the term naturaleza:\n",
      "\n",
      "-50\n"
     ]
    },
    {
     "name": "stdin",
     "output_type": "stream",
     "text": [
      "\n",
      "Which neighborhoods length from term naturaleza do you want to load?  50\n"
     ]
    },
    {
     "name": "stdout",
     "output_type": "stream",
     "text": [
      "\n",
      "Loading file /media/odrec/TOSHIBA EXT/files_nlp_deeplecture_2/corr/neighborhoods/neighborhoods-naturaleza-50.pkl...\n",
      "> \u001b[0;32m/home/odrec/Desktop/DeepLecture/script philip/neighborhood_functions.py\u001b[0m(223)\u001b[0;36mload_neighborhoods\u001b[0;34m()\u001b[0m\n",
      "\u001b[0;32m    221 \u001b[0;31m\u001b[0;34m\u001b[0m\u001b[0m\n",
      "\u001b[0m\u001b[0;32m    222 \u001b[0;31m            \u001b[0;31m#Set variables for other cells\u001b[0m\u001b[0;34m\u001b[0m\u001b[0;34m\u001b[0m\u001b[0;34m\u001b[0m\u001b[0m\n",
      "\u001b[0m\u001b[0;32m--> 223 \u001b[0;31m            \u001b[0mterm_to_search\u001b[0m \u001b[0;34m=\u001b[0m \u001b[0mterm_of_neighborhoods\u001b[0m\u001b[0;34m\u001b[0m\u001b[0;34m\u001b[0m\u001b[0m\n",
      "\u001b[0m\u001b[0;32m    224 \u001b[0;31m            \u001b[0mNEIGHBORHOOD_SIZE\u001b[0m \u001b[0;34m=\u001b[0m \u001b[0mint\u001b[0m\u001b[0;34m(\u001b[0m\u001b[0mlength_of_neighborhoods\u001b[0m\u001b[0;34m)\u001b[0m\u001b[0;34m\u001b[0m\u001b[0;34m\u001b[0m\u001b[0m\n",
      "\u001b[0m\u001b[0;32m    225 \u001b[0;31m\u001b[0;34m\u001b[0m\u001b[0m\n",
      "\u001b[0m\n"
     ]
    },
    {
     "name": "stdin",
     "output_type": "stream",
     "text": [
      "ipdb>  start_indexes_dictionary['ELUSAL-22-287']\n"
     ]
    },
    {
     "name": "stdout",
     "output_type": "stream",
     "text": [
      "[10980]\n"
     ]
    },
    {
     "name": "stdin",
     "output_type": "stream",
     "text": [
      "ipdb>  end_indexes_dictionary['ELUSAL-22-287']\n"
     ]
    },
    {
     "name": "stdout",
     "output_type": "stream",
     "text": [
      "[10980]\n"
     ]
    },
    {
     "name": "stdin",
     "output_type": "stream",
     "text": [
      "ipdb>  list(start_indexes_dictionary.keys())[:5]\n"
     ]
    },
    {
     "name": "stdout",
     "output_type": "stream",
     "text": [
      "*** Error in argument: '(start_indexes_dictionary.keys())[:5]'\n"
     ]
    },
    {
     "name": "stdin",
     "output_type": "stream",
     "text": [
      "ipdb>  temp=list(start_indexes_dictionary.keys())\n",
      "ipdb>  temp[:5]\n"
     ]
    },
    {
     "name": "stdout",
     "output_type": "stream",
     "text": [
      "['ELUSAL-22-287', 'ELUSAL-22-186', 'ELUSAL-22-165', 'ELUSAL-22-42', 'ELUSAL-22-119']\n"
     ]
    },
    {
     "name": "stdin",
     "output_type": "stream",
     "text": [
      "ipdb>  start_indexes_dictionary['ELUSAL-22-186']\n"
     ]
    },
    {
     "name": "stdout",
     "output_type": "stream",
     "text": [
      "[10563]\n"
     ]
    },
    {
     "name": "stdin",
     "output_type": "stream",
     "text": [
      "ipdb>  end_indexes_dictionary['ELUSAL-22-186']\n"
     ]
    },
    {
     "name": "stdout",
     "output_type": "stream",
     "text": [
      "[10563]\n"
     ]
    },
    {
     "name": "stdin",
     "output_type": "stream",
     "text": [
      "ipdb>  start_indexes_dictionary['ELUSAL-22-119']\n"
     ]
    },
    {
     "name": "stdout",
     "output_type": "stream",
     "text": [
      "[4657]\n"
     ]
    },
    {
     "name": "stdin",
     "output_type": "stream",
     "text": [
      "ipdb>  end_indexes_dictionary['ELUSAL-22-119']\n"
     ]
    },
    {
     "name": "stdout",
     "output_type": "stream",
     "text": [
      "[4657]\n"
     ]
    }
   ],
   "source": [
    "neighborhoods_dictionary, indexes_term_dictionary, start_indexes_dictionary, end_indexes_dictionary, length_of_neighborhoods, term = load_neighborhoods()\n",
    "\n",
    "insert_neighborhoods_into_files(neighborhoods_dictionary, start_indexes_dictionary, end_indexes_dictionary)\n"
   ]
  }
 ],
 "metadata": {
  "kernelspec": {
   "display_name": "Python 3 (ipykernel)",
   "language": "python",
   "name": "python3"
  },
  "language_info": {
   "codemirror_mode": {
    "name": "ipython",
    "version": 3
   },
   "file_extension": ".py",
   "mimetype": "text/x-python",
   "name": "python",
   "nbconvert_exporter": "python",
   "pygments_lexer": "ipython3",
   "version": "3.8.10"
  }
 },
 "nbformat": 4,
 "nbformat_minor": 5
}
